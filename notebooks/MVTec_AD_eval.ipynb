{
 "cells": [
  {
   "cell_type": "code",
   "execution_count": null,
   "metadata": {},
   "outputs": [],
   "source": [
    "import sys\n",
    "sys.path.append('../')\n",
    "from vgs.models.modules import FCNet\n",
    "from vgs.models.modules import AE_energy\n",
    "import torch\n",
    "import numpy as np\n",
    "from torch.utils.data import DataLoader, TensorDataset"
   ]
  },
  {
   "cell_type": "code",
   "execution_count": 3,
   "metadata": {},
   "outputs": [],
   "source": [
    "encoder = FCNet(\n",
    "    in_dim = 272,\n",
    "    out_dim = 128,\n",
    "    l_hidden = [1024, 1024, 1024],\n",
    "    activation = 'relu',\n",
    "    out_activation = 'linear'\n",
    ")\n",
    "decoder = FCNet(\n",
    "    in_dim = 128,\n",
    "    out_dim = 272,\n",
    "    l_hidden = [1024, 1024, 1024],\n",
    "    activation = 'relu',\n",
    "    out_activation = 'linear',\n",
    ")\n",
    "\n",
    "device = torch.device('cuda:0')\n",
    "\n",
    "energy = AE_energy(  \n",
    "    encoder = encoder,\n",
    "    decoder = decoder,\n",
    "    tau = 0.1, # Entropy regularization\n",
    "    learn_out_scale=True\n",
    ").to(device)"
   ]
  },
  {
   "cell_type": "code",
   "execution_count": 6,
   "metadata": {},
   "outputs": [],
   "source": [
    "val_data = torch.load('../datasets/ebm_exp/val_mvtec.pth', weights_only=False)\n",
    "X_test = val_data['feature_align']\n",
    "X_test = torch.tensor(X_test.reshape(len(X_test), 272, -1))\n",
    "X_test = X_test / X_test.norm(dim=1, keepdim=True)\n",
    "y_test = torch.tensor(val_data['label'])\n",
    "clsname_test = np.array(val_data['clsname'])\n",
    "mask_test = val_data['mask']\n",
    "\n",
    "batchsize = 128\n",
    "test_dataset = TensorDataset(X_test, y_test)\n",
    "test_loader = DataLoader(test_dataset, batch_size=batchsize, shuffle= False, num_workers=4, pin_memory=True)"
   ]
  },
  {
   "cell_type": "code",
   "execution_count": null,
   "metadata": {},
   "outputs": [],
   "source": [
    "from myutils.ebm_utils import *\n",
    "\n",
    "### TODO: Fill in the path to the energy checkpoints \n",
    "energy_ckpts = [] # Example: [f'../results/mvtec/test_{i}/energy.pth' for i in range 10]\n",
    "\n",
    "result_path = '../mvtec_result.txt'\n",
    "d_cls_results = {}\n",
    "d_loc_results = {}\n",
    "for i, ckpt in enumerate(energy_ckpts):\n",
    "    energy_dict = torch.load(ckpt)\n",
    "    energy.load_state_dict(energy_dict[\"state_dict\"])\n",
    "    energy.eval()\n",
    "    pred_y, pred_y_mask = predict(energy, test_loader, device)\n",
    "    auc = roc_auc_score(y_test, pred_y)    \n",
    "    in_pred = pred_y[y_test == 0].numpy().mean()\n",
    "    out_pred = pred_y[y_test == 1].numpy().mean()\n",
    "    d_cls_auc = compute_classwise_auc(pred_y, y_test, clsname_test)\n",
    "    d_loc_auc = compute_classwise_localization_auc(pred_y_mask, mask_test, clsname_test)\n",
    "\n",
    "    for k, v in d_cls_auc.items():\n",
    "        if k not in d_cls_results:\n",
    "            d_cls_results[k] = []\n",
    "        d_cls_results[k].append(v)\n",
    "    for k, v in d_loc_auc.items():\n",
    "        if k not in d_loc_results:\n",
    "            d_loc_results[k] = []\n",
    "        d_loc_results[k].append(v)\n",
    "\n",
    "with open(result_path, 'w') as f:\n",
    "    f.write('Classification AUC\\n')\n",
    "    f.write('Class, Mean, Std\\n')\n",
    "for k, v in d_cls_results.items():\n",
    "    with open(result_path, 'a') as f:\n",
    "        f.write(f'{k}, {100*np.mean(v):.1f}, {100*np.std(v):.2f}\\n')\n",
    "\n",
    "with open(result_path, 'a') as f:\n",
    "    f.write('\\nLocalization AUC\\n')\n",
    "    f.write('Class, Mean, Std\\n')\n",
    "for k, v in d_loc_results.items():\n",
    "    with open(result_path, 'a') as f:\n",
    "        f.write(f'{k}, {100*np.mean(v):.1f}, {100*np.std(v):.2f}\\n')"
   ]
  }
 ],
 "metadata": {
  "kernelspec": {
   "display_name": "vgs",
   "language": "python",
   "name": "python3"
  },
  "language_info": {
   "codemirror_mode": {
    "name": "ipython",
    "version": 3
   },
   "file_extension": ".py",
   "mimetype": "text/x-python",
   "name": "python",
   "nbconvert_exporter": "python",
   "pygments_lexer": "ipython3",
   "version": "3.10.16"
  }
 },
 "nbformat": 4,
 "nbformat_minor": 2
}
