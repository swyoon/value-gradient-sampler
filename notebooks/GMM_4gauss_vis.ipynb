{
 "cells": [
  {
   "cell_type": "markdown",
   "metadata": {},
   "source": [
    "# Notebook File for the 4 Gaussian Example"
   ]
  },
  {
   "cell_type": "code",
<<<<<<< Updated upstream
   "execution_count": null,
=======
   "execution_count": 5,
>>>>>>> Stashed changes
   "metadata": {},
   "outputs": [],
   "source": [
    "import numpy as np\n",
    "import torch\n",
    "import matplotlib.pyplot as plt\n",
    "import sys\n",
    "sys.path.append('../')\n",
    "from vgs.models.modules_temb import FCNet_temb\n",
    "from vgs.models.vgsampler import ValueGradientSampler\n",
    "device = \"cuda:0\""
   ]
  },
  {
   "cell_type": "markdown",
   "metadata": {},
   "source": [
    "## Load Model"
   ]
  },
  {
   "cell_type": "code",
<<<<<<< Updated upstream
   "execution_count": 2,
=======
   "execution_count": 6,
>>>>>>> Stashed changes
   "metadata": {},
   "outputs": [
    {
     "data": {
      "text/plain": [
       "<All keys matched successfully>"
      ]
     },
<<<<<<< Updated upstream
     "execution_count": 2,
=======
     "execution_count": 6,
>>>>>>> Stashed changes
     "metadata": {},
     "output_type": "execute_result"
    }
   ],
   "source": [
    "value_net = FCNet_temb(in_dim=2, out_dim=1, hidden_dim=128, t_emb_dim=128)\n",
    "load_test_model = ValueGradientSampler(value=value_net, n_step = 10, sample_shape=[2], s2_schedule='quad', s2_start=0.1, s2_end=0.01, alpha_method=\"vp\", ema=0.95)\n",
    "\n",
    "state_dict = torch.load('../checkpoints/GMM_4gauss_vgs_plot.pth')\n",
    "load_test_model.load_state_dict(state_dict)"
   ]
  },
  {
   "cell_type": "markdown",
   "metadata": {},
   "source": [
    "## Setup Energy Function"
   ]
  },
  {
   "cell_type": "code",
<<<<<<< Updated upstream
   "execution_count": 13,
=======
   "execution_count": 7,
>>>>>>> Stashed changes
   "metadata": {},
   "outputs": [],
   "source": [
    "from vgs.energy.gauss import GMM\n",
    "load_test_model.to(device)\n",
    "energy_model = GMM(name=\"4gauss\")\n",
    "energy_model.to(device)\n",
    "energy = lambda x: -energy_model.unnorm_log_prob(x).float().to(device)"
   ]
  },
  {
   "cell_type": "markdown",
   "metadata": {},
   "source": [
    "## Sampling"
   ]
  },
  {
   "cell_type": "code",
   "execution_count": 11,
   "metadata": {},
   "outputs": [
    {
     "name": "stdout",
     "output_type": "stream",
     "text": [
      "torch.Size([11, 10000, 2])\n",
      "Model Init Sigma : 1.537362813949585\n"
     ]
    }
   ],
   "source": [
<<<<<<< Updated upstream
    "samples = load_test_model.sample(10000, device, energy, noise_scale=1.2)\n",
=======
    "from torch import distributions\n",
    "from vgs.eval.plots import plot_marginal\n",
    "\n",
    "samples = load_test_model.sample(10000, device, energy, noise_scale=1.0)\n",
>>>>>>> Stashed changes
    "\n",
    "xs = []\n",
    "\n",
    "for data in samples['l_sample']:\n",
    "    xs.append(data.unsqueeze(0))\n",
    "\n",
    "xs = torch.cat(xs,dim=0)\n",
    "print(xs.shape)\n",
    "\n",
    "init_sample = xs[0,:,:]\n",
    "print(f\"Model Init Sigma : {load_test_model.init_sigma.item()}\")\n",
    "\n",
    "dist = distributions.Normal(0, load_test_model.init_sigma.item())\n",
    "marginal = lambda x,dim : dist.log_prob(x).exp()\n",
    "init_sample = plot_marginal(init_sample,marginal=marginal,domain=torch.tensor([[-6.8,6.8],[-6.8,6.8]]))\n"
   ]
  },
  {
   "cell_type": "markdown",
   "metadata": {},
   "source": [
    "## Plot Figures\n",
    "\n",
<<<<<<< Updated upstream
    "Plots are saved in the directory 'value-gradient-sampler/plots'."
=======
    "The plots are saved in the directory 'value-gradient-sampler/plots'."
>>>>>>> Stashed changes
   ]
  },
  {
   "cell_type": "code",
   "execution_count": 12,
   "metadata": {},
   "outputs": [],
   "source": [
    "## Plot\n",
<<<<<<< Updated upstream
    "from vgs.eval.plots import get_plots,save_fig,plot_marginal\n",
    "from torch import distributions\n",
=======
    "from vgs.eval.plots import get_plots\n",
>>>>>>> Stashed changes
    "import plotly.io as pio\n",
    "import plotly.subplots as sp\n",
    "\n",
    "plots = get_plots(energy_model,samples['sample'].detach(),None,ts=torch.arange(11,dtype=float),xs=xs.detach(),marginal_dims=[0,1],domain=torch.tensor([[-6.8,6.8],[-6.8,6.8]]))\n",
    "\n",
    "pio.write_image(init_sample, '../plots/init_hist.png', format='png')\n",
    "pio.write_image(plots['plots/hist_0'], '../plots/final_hist.png', format='png')\n",
    "pio.write_image(plots['plots/traj_0'], '../plots/traj.png',format='png')\n",
    "pio.write_image(plots['plots/groundtruth_density_0_1'], '../plots/gt_density.png', format='png')\n",
    "pio.write_image(plots['plots/density_0_1'], '../plots/density.png', format='png')\n",
    "\n",
    "##Axis modification for aggregated figure\n",
    "for trace in init_sample['data']:\n",
    "    d_tmp = trace['dy']\n",
    "    trace['dy'] = trace['dx']\n",
    "    trace['dx'] = d_tmp\n",
    "    tmp = trace['x']\n",
    "    trace['x'] = trace['y']\n",
    "    trace['y'] = tmp\n",
    "    tmp_0 = trace['y0']\n",
    "    trace['y0'] = trace['x0']\n",
    "    trace['x0'] = tmp_0\n",
    "\n",
    "for trace in plots['plots/hist_0']['data']:\n",
    "    d_tmp = trace['dy']\n",
    "    trace['dy'] = trace['dx']\n",
    "    trace['dx'] = d_tmp\n",
    "    tmp = trace['x']\n",
    "    trace['x'] = trace['y']\n",
    "    trace['y'] = tmp\n",
    "    tmp_0 = trace['y0']\n",
    "    trace['y0'] = trace['x0']\n",
    "    trace['x0'] = tmp_0\n",
    "\n",
    "## Plot Aggregate Figure\n",
    "fig = sp.make_subplots(\n",
    "        rows=1,  # Single row\n",
    "        cols=5,  # One column for each plot\n",
    "        shared_yaxes=True, # Share the y-axis across all plots\n",
    "        subplot_titles= [\"Initial Density\", \"Sampler Trajectory\", \"Final Density\",\"Sampled Energy\", \"Target Energy\"], # Use the plot names as titles\n",
    "        column_widths=[0.125,0.4,0.125,0.225,0.225],\n",
    "        horizontal_spacing= 0.025\n",
    ")\n",
    "\n",
    "fig.update_layout(\n",
    "    title_font=dict(family='Arial', size=18, color='black', weight='bold'),  # Set general plot title font (if applicable)\n",
    "    annotations=[dict(\n",
    "        font=dict(family='Arial', size=16, color='black', weight='bold'),  # Set bold font for all subplot titles\n",
    "        text=\"Initial Density\",  # Title text\n",
    "        showarrow=False\n",
    "    ), dict(\n",
    "        font=dict(family='Arial', size=16, color='black', weight='bold'),  # Set bold font for all subplot titles\n",
    "        text=\"Sampler Trajectory\",  # Title text\n",
    "        showarrow=False\n",
    "    ), dict(\n",
    "        font=dict(family='Arial', size=16, color='black', weight='bold'),  # Set bold font for all subplot titles\n",
    "        text=\"Final Density\",  # Title text\n",
    "        showarrow=False\n",
    "    ), dict(\n",
    "        font=dict(family='Arial', size=16, color='black', weight='bold'),  # Set bold font for all subplot titles\n",
    "        text=\"Sampled Energy\",  # Title text\n",
    "        showarrow=False\n",
    "    ), dict(\n",
    "        font=dict(family='Arial', size=16, color='black', weight='bold'),  # Set bold font for all subplot titles\n",
    "        text=\"Target Energy\",  # Title text\n",
    "        showarrow=False\n",
    "    )],\n",
    "    #plot_bgcolor='white'\n",
    ")\n",
    "\n",
    "\n",
    "fig.update_layout(\n",
    "        xaxis1=dict(title='Probability',\n",
    "                    showgrid=True,zeroline=True,showticklabels=True,linewidth=1,linecolor='black'),\n",
    "        xaxis2=dict(title='$T$',showgrid=True,zeroline=True,showticklabels=True,linewidth=1,linecolor='black'),\n",
    "        xaxis3=dict(title='Probability',showgrid=True,zeroline=True,showticklabels=True,linewidth=1,linecolor='black'),\n",
    "        xaxis4=dict(title='$x_1$',showgrid=True,zeroline=True,showticklabels=True,linewidth=1,linecolor='black'),\n",
    "        xaxis5=dict(title='$x_1$',showgrid=True,zeroline=True,showticklabels=True,linewidth=1,linecolor='black'),\n",
    "        yaxis=dict(title='$x_2$',showgrid=False,linewidth=1,linecolor='black'),\n",
    "        plot_bgcolor='white'\n",
    ")\n",
    "\n",
    "for trace in init_sample['data']:\n",
    "        fig.add_trace(trace, row=1, col=1)\n",
    "\n",
    "for trace in plots['plots/traj_0']['data']:\n",
    "        fig.add_trace(trace, row=1, col=2)\n",
    "\n",
    "for trace in plots['plots/hist_0']['data']:\n",
    "        fig.add_trace(trace, row=1, col=3)\n",
    "\n",
    "for trace in plots['plots/density_0_1']['data']:\n",
    "        fig.add_trace(trace, row=1, col=4)\n",
    "\n",
    "for trace in plots['plots/groundtruth_density_0_1']['data']:\n",
    "        fig.add_trace(trace, row=1, col=5)\n",
    "\n",
    "fig.update_layout(\n",
    "        showlegend=False,\n",
    "        height=600,  # Adjust height for the horizontal layout\n",
    "        width=2200,\n",
    ")\n",
    "\n",
    "\n",
    "\n",
    "for i in range(9):\n",
    "    # Calculate hue to gradually transition from red to blue\n",
    "    hue = (i / 8) * 240  # i goes from 0 to 8, so we scale the hue from 0 to 240\n",
    "    \n",
    "    fig.add_shape(\n",
    "        type=\"line\",\n",
    "        x0=i + 1, x1=i + 1,  # Set the starting and ending x positions for the vertical line\n",
    "        y0=-6.8, y1=6.8,  # Set the y range (you can change these values based on your data)\n",
    "        line=dict(\n",
    "            color=f\"hsv({hue}, 50%, 85%)\",  # Line color from red to blue\n",
    "            dash=\"dot\",    # Dotted line style\n",
    "            width=1        # Line width\n",
    "        ),\n",
    "        row=1,\n",
    "        col=2\n",
    "    )\n",
    "\n",
    "pio.write_image(fig, '../plots/total.png', format='png')"
   ]
<<<<<<< Updated upstream
=======
  },
  {
   "cell_type": "code",
   "execution_count": null,
   "metadata": {},
   "outputs": [],
   "source": []
>>>>>>> Stashed changes
  }
 ],
 "metadata": {
  "kernelspec": {
   "display_name": "latent",
   "language": "python",
   "name": "python3"
  },
  "language_info": {
   "codemirror_mode": {
    "name": "ipython",
    "version": 3
   },
   "file_extension": ".py",
   "mimetype": "text/x-python",
   "name": "python",
   "nbconvert_exporter": "python",
   "pygments_lexer": "ipython3",
   "version": "3.10.16"
  }
 },
 "nbformat": 4,
 "nbformat_minor": 2
}
